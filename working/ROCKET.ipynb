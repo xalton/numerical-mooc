{
 "cells": [
  {
   "cell_type": "markdown",
   "metadata": {},
   "source": [
    "## Résolution du \"Rocket Challenge\".\n",
    "\n",
    "---\n",
    "\n",
    "Binôme : Khaled Ibrahim & Servranckx Christophe.\n",
    "\n",
    "---"
   ]
  },
  {
   "cell_type": "markdown",
   "metadata": {},
   "source": [
    "Le but du problème posé est d'étudier et de fournir divers données sur la trajectoire de vol d'une fusée, i.e sa vitesse à un instant donné, etc. \n",
    "\n",
    "Pour se faire nous allons, dans un premier temps, étudier les équations de mouvement (1) et (2) de la fusée ainsi que l'équation de variation de la masse de propergol fournies ci-dessous. \n",
    "\n",
    "Ensuite, nous allons utiliser la méthode d'Euler afin de résoudre numériquement ces équations et obtenir les données recherchées (l'altitude maximale atteinte, la vitesse d'impact au sol, etc).\n",
    "Nous finirons par une discussion sur la cohérence des résultats obtenus."
   ]
  },
  {
   "cell_type": "markdown",
   "metadata": {},
   "source": [
    "##### 1. Réécriture des équations du mouvement de la fusée:\n",
    "\n",
    "---\n",
    "Commençons par rappeler les équations du mouvement de la fusée. Ces équations sont données par :\n",
    "\n",
    "\\begin{align}\n",
    "\\frac{dh}{dt} &= v\\\\\n",
    "(m_s+m_p) \\frac{dv}{dt}& = -(m_s+m_p)g + \\dot{m}_pv_e - \\frac{1}{2}\\rho v|v|AC_D\n",
    "\\end{align}\n",
    "\n",
    "Il s'agit de deux EDO du premier ordre auxquelles nous pouvons appliquer la méthode d'Euler. \n",
    "C'est à dire une méthode numérique (qui offre donc une solution approximée par rapport à la solution exacte) qui consiste principalement à réexprimé nos EDO du premier odre en un système d'équations discrétisées. Une fois discrétisées, des solutions approximées sont alors obtenues à chaque itération. Notons finalement que la donnée de conditions initiales est essentielle car elles constituent les premières valeurs dont notre algorithme va se servir.\n",
    "\n",
    "Comme annoncer, commençons par noter plus succinctement les dérivées par rapport au temps par des primes et faisons passer le terme $(m_s+m_p)$ du côté droit de l'égalité de l'équation (4). Nous obtenons alors:\n",
    "\n",
    "\\begin{align}\n",
    "h' &= v\\\\\n",
    "v' &= -g + \\frac{v_e}{m_s+m_p}\\dot{m}_p - \\frac{\\rho v|v|AC_D}{2 (m_s+m_p)}\n",
    "\\end{align}\n",
    "\n",
    "\n",
    "Avant de poursuivre, notons que nous pouvons représenter ceci sous forme vectorielle. Notre système peut donc s'écrire comme suit:\n",
    "$$u'(t) = f(u)$$\n",
    "\n",
    "où\n",
    "\n",
    "\\begin{align}\n",
    "u & = \\begin{pmatrix} h  \\\\ v \\\\\\end{pmatrix} & f(u) & = \\begin{pmatrix} v \\\\ \\frac{v_e}{m_s+m_p}\\dot{m}_p - \\frac{\\rho v|v|AC_D}{2 (m_s+m_p)} - g  \\end{pmatrix}.\n",
    "\\end{align}\n",
    "\n",
    "Cette forme vectorielle présente l'avantage de représenter clairement ce qui devra être coder et comment ceci devra être fait. En effet, ces vecteurs correspondront tout simplement à des tableaux. Notons finalement que f(u) sera véritablement une fonction définie et appelée au cours de la méthode d'Euler.  \n",
    "\n",
    "\n",
    "\n",
    "Poursuivons maintenant la réécriture de notre système en remplaçant chacune des dérivée temporelle par une forme approximée. Nous aurons ainsi, par exemple, pour $h'$ :\n",
    "\n",
    "\\begin{align}\n",
    "h'(t) \\approx \\frac{h^{n+1}-h^n}{\\Delta t}\n",
    "\\end{align}\n",
    "où n représente la $n^{e}$ valeur dans l'itération temporelle. Nos deux équations deviennent ainsi :\n",
    "\n",
    "\\begin{align}\n",
    "\\frac{h^{n+1}-h^n}{\\Delta t} &= v^n\\\\\n",
    "\\frac{v^{n+1}-v^n}{\\Delta t} &= \\frac{v_e}{m_s+m_p}\\dot{m}_p - \\frac{\\rho v^n|v^n|AC_D}{2 (m_s+m_p)} - g\n",
    "\\end{align}\n",
    "\n",
    "\n",
    "Enfin, dans le but d'évaluer l'état à $t^{n+1}$ (donc pour $h$ par exemple, on veut évaluer l'état $h^{n+1}$), on va évaluer toutes les données de notre système et ce à chaque itération $t^{n}$. Pour cela, il suffit d'isoler l'état n+1 dans chacune de nos équations.\n",
    "\n",
    "\n",
    "\\begin{align}\n",
    "h^{n+1} &= {h^n} + \\Delta{t} v^n\\\\\n",
    "v^{n+1} &= {v^n} + \\Delta{t} (\\frac{v_e}{m_s+m_p}\\dot{m}_p - \\frac{\\rho v^n|v^n|AC_D}{2 (m_s+m_p)} - g)\n",
    "\\end{align}\n",
    "\n",
    "Ce qui nous donne finalement un système de deux EDO discrétisées sur lequel on va pouvoir appliqué la méthode d'Euler."
   ]
  },
  {
   "cell_type": "markdown",
   "metadata": {},
   "source": [
    "##### 2. Variation de la quantité de propergol au cours du vol:\n",
    "\n",
    "---\n",
    "A présent, si l'on observe l'évolution de la masse de $propergol^1$ tout au long de la trajectoire, on a que celle-ci évolue selon:\n",
    "\\begin{align}\n",
    "m_p = m_{po} - \\int^t_0 \\dot{m}_p d\\tau\n",
    "\\end{align}\n",
    "\n",
    "À l'aide du graphique donné dans l'énoncé et repris ci-dessous, on peut déterminer $\\dot{m}_p$, la variation de la masse de propergol tout au long du vol.\n",
    "\n",
    "---\n",
    "###### [1] Le propergol est un mélange de comburants (des oxydants) et de combustible (des réducteurs) présents séparément avant la combustion. Le propergol, parfois assimilé aux ergols (il s'agit également d'un mélange comburants-combustible), est utilisé comme carburant dans les systèmes propulsifs à réaction comme les fusées."
   ]
  },
  {
   "cell_type": "markdown",
   "metadata": {},
   "source": [
    "#### Variation de la masse de Propergol en fonction du temps\n",
    "![Image](./figures/burn.rate.png)\n",
    "\n",
    "---\n",
    "###### source : 01 Phugoid/Rocket assignment.ipynb"
   ]
  },
  {
   "cell_type": "markdown",
   "metadata": {},
   "source": [
    "A partir du graphique on observe que :\n",
    "\n",
    "$$\n",
    "→ \\dot{m}_p = \\left\\{ \n",
    "\\begin{aligned} \n",
    "\\mbox{20  kg.$s^{-1}$ si t} \\in \\mbox{ [ } 0,5 [ s\\\\\n",
    "\\mbox{0 kg.$s^{-1}$ si t} \\in \\mbox{[} 5,+ \\infty]s\n",
    "\\end{aligned}\n",
    "\\right.\n",
    "$$\n",
    "\n"
   ]
  },
  {
   "cell_type": "markdown",
   "metadata": {},
   "source": [
    "L'intégrale étant l'air sous la courbe, on sait de plus que $\\dot{m}_p$ est constant (d'après la manière dont on l'a défini). On en déduit donc que la masse de propergol vaut :\n",
    "\n",
    "$$\n",
    "→ m_p = \\left\\{ \n",
    "\\begin{aligned} \n",
    "\\mbox{$m_{po}-20.t$ kg  si t} \\in \\mbox{ [ } 0,5 [ s\\\\\n",
    "\\mbox{0 kg si t} \\in \\mbox{[} 5,+ \\infty]s\n",
    "\\end{aligned}\n",
    "\\right.\n",
    "$$"
   ]
  },
  {
   "cell_type": "markdown",
   "metadata": {},
   "source": [
    "##### 3. Résolution du problème:\n",
    "\n",
    "---\n",
    "Ramener aux trois équations reprises ci-dessous, notre problème peut désormais être résolu par la méthode d'Euler. \n",
    "\n",
    "\\begin{equation}\n",
    "\\left\\{\n",
    "\\begin{aligned}\n",
    "m_p &= m_{po} - \\int^t_0 \\dot{m}_p d\\tau\\\\\n",
    "h^{n+1} &= {h^n} + \\Delta{t} v^n\\\\\n",
    "v^{n+1} &= {v^n} + \\Delta{t} (\\frac{v_e}{m_s+m_p}\\dot{m}_p -                   \\frac{\\rho v^n|v^n|AC_D}{2 (m_s+m_p)} - g)\\\\\n",
    "\\end{aligned}\n",
    "\\right.\n",
    "\\end{equation}\n",
    "\n",
    "Pour se faire commençons par importer la librairie numpy et tout ce dont nous aurons besoin pour la résolution.\n",
    "\n",
    "---"
   ]
  },
  {
   "cell_type": "code",
   "execution_count": 1,
   "metadata": {
    "collapsed": true
   },
   "outputs": [],
   "source": [
    "import numpy\n",
    "from math import log, ceil\n",
    "from matplotlib import pyplot\n",
    "%matplotlib inline"
   ]
  },
  {
   "cell_type": "markdown",
   "metadata": {},
   "source": [
    "---\n",
    "Ceci étant fait, définissons maintenant nos fonctions f(u) et euler_step comme vu tout au long du module à ceci près que nous n'avons plus quatre variables indépendantes mais deux. L'altitude $h$, et la vitesse de la fusée $v$.\n",
    "\n",
    "---"
   ]
  },
  {
   "cell_type": "code",
   "execution_count": 2,
   "metadata": {
    "collapsed": false
   },
   "outputs": [],
   "source": [
    "def f(u):\n",
    "    \"\"\"Returns the right-hand side of the phugoid system of equations.\n",
    "    \n",
    "    Parameters\n",
    "    ----------\n",
    "    u : array of float\n",
    "        array containing the solution at time n.\n",
    "        \n",
    "    Returns\n",
    "    -------\n",
    "    dudt : array of float\n",
    "        array containing the RHS given u.\n",
    "    \"\"\"\n",
    "    \n",
    "    h = u[0]\n",
    "    v = u[1]\n",
    "    return numpy.array([v,((v_e*m_p_dot)/(m_s+m_p))\n",
    "                        - ((rho*v*abs(v)*A*C_D)/(2*(m_s+m_p)))-g])\n",
    "\n",
    "def euler_step(u, f, dt):\n",
    "    \"\"\"Returns the solution at the next time-step using Euler's method.\n",
    "    \n",
    "    Parameters\n",
    "    ----------\n",
    "    u : array of float\n",
    "        solution at the previous time-step.\n",
    "    f : function\n",
    "        function to compute the right hand-side of the system of equation.\n",
    "    dt : float\n",
    "        time-increment.\n",
    "    \n",
    "    Returns\n",
    "    -------\n",
    "    u_n_plus_1 : array of float\n",
    "        approximate solution at the next time step.\n",
    "    \"\"\"\n",
    "    \n",
    "    return u + dt * f(u)"
   ]
  },
  {
   "cell_type": "markdown",
   "metadata": {},
   "source": [
    "---\n",
    "Posons maintenant l'ensemble de nos paramètres et données initiales.\n",
    "\n",
    "---"
   ]
  },
  {
   "cell_type": "code",
   "execution_count": 3,
   "metadata": {
    "collapsed": true
   },
   "outputs": [],
   "source": [
    "# Paramètres du modèle:\n",
    "\n",
    "m_s = 50.0     # poids de la structure de la fusée en kg\n",
    "g  = 9.81      # gravité en m.s^{-2}\n",
    "rho = 1.091    # densité moyenne de l'air en kg.m^3\n",
    "r  = 0.5       # rayon de la section transversale maximale de la fusée\n",
    "A  = numpy.pi*r**2   # supericie de section transversale maximale de la fusée\n",
    "v_e = 325.0    # vitesse d'échappement en m/s\n",
    "C_D = 0.15     # coefficient de traînée\n",
    "m_p0 = 100     # poids initiale (t=0) de propergol de la fusée\n",
    "\n",
    "# Conditions initiales:\n",
    "\n",
    "v0 = 0       # vitesse initiale de la fusée\n",
    "h0 = 0       # altitude initiale de la fusée"
   ]
  },
  {
   "cell_type": "markdown",
   "metadata": {},
   "source": [
    "---\n",
    "Nos paramètres et conditions initiales étant posées, nous pouvons désormais passer à l'écriture de notre algorithme qui se déroulera en plusieurs étape.\n",
    "\n",
    "\n",
    "Tout d'abord, nous allons discrétiser le temps grâce à notre intervalle de temps dt. Nous définirons ensuite une boucle \"for\" (de N étapes). Cette boucle sera alors \"couplée\" à un $booléen^{2}$ qui sera vérifié à chaque passage de la boucle afin de définir la masse du propergol et de calculer nos solutions par la fonction \" euler_step \" et ce par la logique (et la condition) suivante:\n",
    "\n",
    "\" Si le temps de l'étape n (où n est l'étape où l'on est en train de vérifier la condition) est strictement inférieur à 5s alors exécute ce qui suit sinon  exécute cette autre commande\".\n",
    "\n",
    "\n",
    "Remarque : Nous utiliserons ici les notations suivantes pour les variables de l'équation  $m_p = m_{po} - \\int^t_0 \\dot{m}_p d\\tau$ :\n",
    "\n",
    "$\\dot{m}_p :$ m_p_dot\n",
    "\n",
    "$\\int^t_0 \\dot{m}_p d\\tau :$ m_p_int\n",
    "\n",
    "$m_{po} :$ m_p0\n",
    "\n",
    "\n",
    "---\n",
    "###### [2] Un booléen est une \"variable\" qui selon une condition donnée adoptera une valeur ou une autre. "
   ]
  },
  {
   "cell_type": "code",
   "execution_count": 4,
   "metadata": {
    "collapsed": false
   },
   "outputs": [],
   "source": [
    "# Discrétisation du temps\n",
    "\n",
    "T = 50.0\n",
    "dt = 0.1\n",
    "N = int(T/dt)+1\n",
    "t = numpy.linspace(0.0, T, N)\n",
    "\n",
    "\n",
    "u = numpy.empty((N, 2))      # Initialise le tableau de solution pour chaque dt\n",
    "u[0] = numpy.array([h0,v0])  # remplit le 1er élément avec les CI\n",
    "\n",
    "\n",
    "# On lance la boucle contenant notre booléen et qui appel notre fonction euler_step\n",
    "for n in range(N-1): \n",
    "    if t[n] < 5 :\n",
    "        m_p_dot = 20\n",
    "        m_p_int= m_p_dot*t[n]\n",
    "        m_p = m_p0 - m_p_int\n",
    "        u[n+1] = euler_step(u[n], f, dt)\n",
    "\n",
    "    else :\n",
    "        m_p_dot = 0\n",
    "        m_p = 0\n",
    "        u[n+1] = euler_step(u[n], f, dt)"
   ]
  },
  {
   "cell_type": "markdown",
   "metadata": {},
   "source": [
    "Remarque: Pour déterminer T (le temps d'observation de l'expérience), nous avions tout d'abord pris un temps arbitraire de $100 s$ tout comme dans les modules. En esquissant ensuite le graphe  correspondant à T=100s, nous avons alors pu restreindre notre temps d'observation à $50s$ qui suffisait amplement pour observer l'impact de la fusée au sol. Cette méthode par tatonnement fonctionne bien ici, mais comporte ses limites dans d'autres problème. Une autre méthode (estimation du temps d'observations par une série d'approximations sur les équations initiales par exemple) devra alors être adopter."
   ]
  },
  {
   "cell_type": "markdown",
   "metadata": {},
   "source": [
    "---\n",
    "Nous sommes maintenant intéressé par voir la variation de l'altitude en fonction du temps. Ceci consistituera une première vérification de la cohérence physique de nos réponses.\n",
    "\n",
    "Avant toute chose il convient de sélectionner les altitudes supérieur ou égale à 0, les valeurs négative n'ayant pas de sens car lorsque h=0, la fusée impact le sol. Pour se faire, nous allons utiliser un outil vu dans le module 1.04, \" numpy.where()\".\n",
    "Pour rappel numpy.where() va créer une liste d'indice correspondant aux altitudes négatives. Nous utilisons ensuite un booléen pour vérifier si nos solutions comporte bien des valeurs négative d'altitude. Si tel est le cas alors le premier élément (le premier indice) de la liste créer par numpy.where correspond à la première altitude négative que nous considérons comme étant l'indice correspondant au niveau du sol.\n"
   ]
  },
  {
   "cell_type": "markdown",
   "metadata": {},
   "source": [
    "\n",
    "Nous réalisons tout ceci via l'algorithme suivant :\n",
    "\n",
    "---"
   ]
  },
  {
   "cell_type": "code",
   "execution_count": 5,
   "metadata": {
    "collapsed": false
   },
   "outputs": [],
   "source": [
    "# Méthode pour déterminer l'indice à partir duquel la hauteur devient négative\n",
    "\n",
    "g=u[:,0]    # g est un vecteur comprenant l'ensemble de nos altitudes\n",
    "k=u[:,1]    # k est un vecteur comprenant l'ensemble de nos vitesses\n",
    "\n",
    "idx_negative_h = numpy.where(g<0.0)[0]  # création d'un liste d'indice correspondant aux valeurs négatives de h\n",
    "if len(idx_negative_h)==0:       # si la liste créer est de longueur nulle alors :\n",
    "    idx_ground_h = N-1           # l'indice \"recherché\" correspond au dernier élément de notre liste de départ         \n",
    "else:\n",
    "    idx_ground_h = idx_negative_h[0]    # dans le cas contraire l'indice recherché correspond au premier élément qui compose notre nouvelle liste\n",
    "    "
   ]
  },
  {
   "cell_type": "markdown",
   "metadata": {},
   "source": [
    "---\n",
    "Ceci étant fait, nous pouvons désormais réaliser le graphe de l'altitude de la fusée en fonction du temps en indiquant de n'afficher que les valeurs d'altitude et de temps d'indice compris entre 0 et idx_ground_h (notre indice correspondant au niveau du sol)\n",
    "\n",
    "---"
   ]
  },
  {
   "cell_type": "code",
   "execution_count": 6,
   "metadata": {
    "collapsed": false
   },
   "outputs": [
    {
     "data": {
      "text/plain": [
       "<matplotlib.legend.Legend at 0x7f1fa01b8630>"
      ]
     },
     "execution_count": 6,
     "metadata": {},
     "output_type": "execute_result"
    },
    {
     "data": {
      "image/png": "[encoded data removed]",
      "text/plain": [
       "<matplotlib.figure.Figure at 0x7f1f7ff85358>"
      ]
     },
     "metadata": {},
     "output_type": "display_data"
    }
   ],
   "source": [
    "#Graphique de la hauteur de la fusée en fonction du temps\n",
    "\n",
    "pyplot.figure(figsize=(10,5))\n",
    "pyplot.grid(True) \n",
    "pyplot.xlim(0.0,50) \n",
    "pyplot.tick_params(axis='both', labelsize=16) \n",
    "pyplot.xlabel('$Temps$'' ''$t(s)$', fontsize=24)\n",
    "pyplot.ylabel('$Altitude$'' ''$ h(m)$', fontsize=24)\n",
    "pyplot.plot(t[:idx_ground_h],g[:idx_ground_h], color='k', ls='-', lw=2)\n",
    "pyplot.legend(['altitude de la fusée au cours du temps'])\n"
   ]
  },
  {
   "cell_type": "markdown",
   "metadata": {},
   "source": [
    "---\n",
    "Avant de discuter du résultat obtenu, nous pouvons également réaliser le graphe de la vitesse en fonction du temps. Ce faisant, nous obtenons:\n",
    "\n",
    "---"
   ]
  },
  {
   "cell_type": "code",
   "execution_count": 7,
   "metadata": {
    "collapsed": false
   },
   "outputs": [
    {
     "data": {
      "text/plain": [
       "<matplotlib.legend.Legend at 0x7f1f75aa23c8>"
      ]
     },
     "execution_count": 7,
     "metadata": {},
     "output_type": "execute_result"
    },
    {
     "data": {
      "image/png": "[encoded data removed]",
      "text/plain": [
       "<matplotlib.figure.Figure at 0x7f1f759f8898>"
      ]
     },
     "metadata": {},
     "output_type": "display_data"
    }
   ],
   "source": [
    "#Graphique de la vitesse de la fusée en fonction du temps\n",
    "pyplot.figure(figsize=(10,5))   # initialise la taille du plot (\"l'échelle d'affichage\")\n",
    "pyplot.xlim(0.0,55) \n",
    "pyplot.ylim(-100,250)             # limites du plot de l'axe y\n",
    "pyplot.tick_params(axis='both', labelsize=16) # règle la taille de la police pour les graduations\n",
    "pyplot.xlabel('$Temps$'' ''$t(s)$', fontsize=24) # nom de l'axe x & taille de la police\n",
    "pyplot.ylabel('$Vitesse$'' ''$v(m/s)$', fontsize=24) # nom de l'axe y & taille de la police\n",
    "pyplot.plot(t, k, 'k-');\n",
    "pyplot.grid(True)\n",
    "pyplot.legend(['vitesse de la fusée au cours du temps'])\n"
   ]
  },
  {
   "cell_type": "markdown",
   "metadata": {},
   "source": [
    "##### 4. Analyse et interprétation physique des graphiques:\n",
    "---"
   ]
  },
  {
   "cell_type": "markdown",
   "metadata": {
    "collapsed": true
   },
   "source": [
    "Le comportement observé sur ces deux graphiques répond à nos attentes. En effet, \n",
    "\n",
    "→ de t = 0s à t = 5s : La fusée consomme du propergol ce qui provoque un dégagement de gaz d'échappement et un déplacement de la fusée dans la direction opposée à ceux-ci (par la 3e loi de Newton). La fusée décolle donc et acquière une vitesse. C'est précisémment ce que l'on observe sur ces 2 graphique. Une augmentation progressive de l'altitude (lente dans un premier temps et qui s'accélère ensuite) associé à une augmentation progressive de la vitesse (la fusée accélère).\n",
    "\n",
    "→ à t = 5s : À cet instant la fusée a consommé tout le propergol dont elle disposait. Donc à partir de ce moment la force exercée par les gaz d'échappement sur la fusée devient nulle. Or la force de pesanteur étant toujours présente, on s'attend donc à avoir une décélération de la fusée et donc une diminution de la vitesse de cette dernière. C'est à nouveau ce que l'on observe sur notre graphique.\n",
    "\n",
    "L'instant t = 5s est donc un point d'inflexion de notre courbe d'altitudes en fonction du temps, auquel correspond la vitesse maximale atteinte par la fusée\n",
    "\n",
    "→ de t = 5s à t = 50s : En l'absence de \"force de poussée\" (dû aux gaz d'échappement) la fusée décèlere de par la force pesanteur qui s'oppose à son mouvement. On s'attend donc (et c'est ce que l'on observe) à ce que la fusée atteigne une altitude maximale avant de commencer à chuter jusqu'à impacter le sol. En outre, nous voyons que la variation de la vitesse ne coïncide pas avec une chute libre ce qui est normal étant donné que nous considérons un terme de trainé qui a pour conséquence de ralentir la chute de la fusée.\n",
    "\n",
    "Remarquons finalement la concordance des temps où la fusée atteint une hauteur maximale et où sa vitesse s'annule, ce qui satisfait à nos attentes."
   ]
  },
  {
   "cell_type": "markdown",
   "metadata": {},
   "source": [
    "##### 5. Questions - Réponses:  \n",
    "\n",
    "---\n",
    "Remarque préliminaire :\n",
    "\n",
    "Afin de vérifier nos valeurs sur le site : http://openedx.seas.gwu.edu/courses/GW/MAE6286/2014_fall/about, toutes les valeurs affichées ci-dessous le sont avec deux décimales seulement et ce grâce à la commande : round(number, ndigits). Où ndigits est le nombre de décimale que l'on veut afficher et number, le nombre dont le nombre de décimale affichée sera restreint.\n",
    "\n",
    "---\n",
    "1) Au temps $t=3.2s$, quelle est la masse (en kg) de propergol restant dans la fusée ?\n",
    "\n",
    "---\n",
    "Pour obtenir la masse recherchée on lance une boucle for qui aura pour rôle de parcourir l'ensemble de nos valeurs de temps (0.0, 0.1, 0.2, ... 100.0) via l' indice correspondant à leur emplacement dans le tableau dans lequel ils sont rangés.\n",
    "\n",
    "Cette boucle est alors couplée à un booléen muni de la condition suivante : \" Si le temps de l'étape n (où n est l'étape où l'on est occupé à vérifier la condition) est égale à 3.2 s alors tu exécute ce qui suit\".\n",
    "\n",
    "Ainsi, si la condition est respecté notre algorithme calcul alors la masse de propergole recherchée selon l'équation : $m_p = m_{po} - \\int^t_0 \\dot{m}_p d\\tau$. \n",
    "\n",
    "\n",
    "Remarque : Notons que dans notre boucle for, on se restreint aux valeurs pertinentes, c'est à dire aux valeurs qui ont du sens dans notre situation : les valeurs comprises entre le décollage et l'impact au sol (toutes deux comprises). Concrètement il suffit de réemployé l'indice correspondant au niveau du sol obtenu auparavant et d'utiliser ce dernier comme indice d'arrêt dans la boucle for.\n"
   ]
  },
  {
   "cell_type": "code",
   "execution_count": 8,
   "metadata": {
    "collapsed": false
   },
   "outputs": [
    {
     "name": "stdout",
     "output_type": "stream",
     "text": [
      "→ Masse de propergol restante dans la fusée à t = 3.2s: m = 36.0 kg\n"
     ]
    }
   ],
   "source": [
    "for n in range(idx_ground_h):   # On lance notre boucle for\n",
    "    if t[n] == 3.2 :            # Notre booléen est alors vérifié pour chaque n\n",
    "        m_p_dot = 20\n",
    "        m_p_int= m_p_dot*t[n]   # On calcul \"l'intégrale\" pour le temps recherché \n",
    "        m_p = m_p0 - m_p_int    # On calcul finalement la masse de propergol restant au temps donné\n",
    "\n",
    "print(\"→ Masse de propergol restante dans la fusée à t = 3.2s: m =\", round(m_p,2), \"kg\")"
   ]
  },
  {
   "cell_type": "markdown",
   "metadata": {},
   "source": [
    "---\n",
    "2) Quelle est la vitesse maximale de la fusée en $\\frac{m}{s}$ ?\n",
    "A quelle moment cela se produit-il ? (en s)\n",
    "Quelle est l'altitude à ce moment (en m) ?\n",
    "\n",
    "---\n",
    "\n",
    "On désire à présent trouver la vitesse maximale de la fusée au cours de son vol. Comme discuté dans la section précédente, la vitesse maximale sera atteinte au moment où tout le carburant aura été consommé. Toutefois, dans l'ensemble des valeurs que l'on a calculé pour la vitesse, certaine valeur de cette dernière (après impact au sol et qui n'ont donc pas de sens ici) pourrait potentiellement être supérieur (en module) à la vitesse recherché. Il convient donc de restreindre à nouveau nos valeurs de $v$ aux valeurs pertinentes. \n",
    "\n",
    "\n",
    "La vitesse recherchée sera alors trouver parmis ces valeurs via un booléen par simple comparaison de chacune des vitesses calculée ci-dessus.\n",
    "\n",
    "Dès lors, l'altitude et le temps correspondant seront obtenus pour le même indice et de la même manière que la vitesse maximale. Une seule boucle for couplée à l'exécution d'un booléen suffit donc ici."
   ]
  },
  {
   "cell_type": "code",
   "execution_count": 9,
   "metadata": {
    "collapsed": false
   },
   "outputs": [
    {
     "name": "stdout",
     "output_type": "stream",
     "text": [
      "→ Vitesse maximale atteinte par la fusée : v = 232.11 m/s\n",
      "\n",
      "→ Temps correspondant à la vitesse maximale : t = 5.0 s\n",
      "\n",
      "→ Altitude correspondant à la vitesse maximale : h = 523.52 m\n"
     ]
    }
   ],
   "source": [
    "vm=0   # On initialise une variable vm qui correspond à notre vitesse maximale \n",
    "\n",
    "# Rappel : k et g sont des vecteurs comprennant, respectivement, l'ensemble de nos valeurs d'altitude et de vitesse\n",
    "\n",
    "for n in range (idx_ground_h):\n",
    "    if k[n] > vm:      # si vm est strictement plus petite que la vitesse de l'étape n alors:\n",
    "        vm = k[n]      # notre nouvelle vitesse maximale est la vitesse de cet étape\n",
    "        h_vmax = g[n]  # h_vmax est l'altitude correspondant à la vitesse maximale\n",
    "        t_vmax = t[n]  # t_vmax est le temps correspondant à la vitesse maximale\n",
    "\n",
    "print(\"→ Vitesse maximale atteinte par la fusée : v =\",round(vm,2),\"m/s\")\n",
    "print(\"\")\n",
    "print(\"→ Temps correspondant à la vitesse maximale : t =\",round(t_vmax,2),\"s\")\n",
    "print(\"\")\n",
    "print(\"→ Altitude correspondant à la vitesse maximale : h =\",round(h_vmax,2),\"m\")\n"
   ]
  },
  {
   "cell_type": "markdown",
   "metadata": {},
   "source": [
    "---\n",
    "3) Quelle est l'altitude maximale de la fusée durant le vol (en m)? À quel moment (en s) cela se produit-il ?\n",
    "\n",
    "---\n",
    "\n",
    "Nous utilisons ici exactement la même logique que la question 2 à la différence que l'on repère ici la hauteur maximale atteinte par la fusée (parmis l'ensemble des valeurs pertinentes).\n",
    "\n",
    "Le temps correspondant sera lui aussi obtenus par la même logique."
   ]
  },
  {
   "cell_type": "code",
   "execution_count": 10,
   "metadata": {
    "collapsed": false
   },
   "outputs": [
    {
     "name": "stdout",
     "output_type": "stream",
     "text": [
      "→ Altitude maximale atteinte par la fusée : h = 1334.18 m\n",
      "\n",
      "→ Temps correspondant : t = 15.7 s\n"
     ]
    }
   ],
   "source": [
    "hm=0   # On initialise une variable hm qui correspond à notre hauteur maximale \n",
    "\n",
    "for n in range (idx_ground_h):\n",
    "    if g[n] > hm :     # si hm est strictement plus petite que la vitesse de l'étape n alors:\n",
    "        hm = g[n]      # notre nouvelle hauteur maximale est la hauteur de cet étape\n",
    "        t_hmax = t[n]  # t_hmax est le temps correspondant à la hauteur maximale\n",
    "\n",
    "\n",
    "print(\"→ Altitude maximale atteinte par la fusée : h =\",round(hm,2),\"m\")\n",
    "print(\"\")\n",
    "print(\"→ Temps correspondant : t =\",round(t_hmax,2),\"s\")"
   ]
  },
  {
   "cell_type": "markdown",
   "metadata": {
    "collapsed": false
   },
   "source": [
    "---\n",
    "4) A quel moment (en s) est-ce que la fusée impact le sol? Quelle est la vitesse de la fusée (en $\\frac{m}{s}$) au moment de l'impact.\n",
    "\n",
    "---"
   ]
  },
  {
   "cell_type": "markdown",
   "metadata": {},
   "source": [
    "Pour se faire on se sert une dernière fois de notre indice du \"niveau du sol\" pour ressortir les valeurs de temps et de vitesse correspondante en demandant un simple affichage de celles-ci. "
   ]
  },
  {
   "cell_type": "code",
   "execution_count": 11,
   "metadata": {
    "collapsed": false
   },
   "outputs": [
    {
     "name": "stdout",
     "output_type": "stream",
     "text": [
      "→ Temps correspondant à l'impact au sol : t = 37.1 s\n",
      "\n",
      "→ Vitesse correspondante à cette indice : v = -86.01 m/s\n"
     ]
    }
   ],
   "source": [
    "print(\"→ Temps correspondant à l'impact au sol : t =\",round(t[idx_ground_h],2),\"s\")\n",
    "print(\"\")\n",
    "print(\"→ Vitesse correspondante à cette indice : v =\",round(k[idx_ground_h],2),\"m/s\")\n"
   ]
  },
  {
   "cell_type": "markdown",
   "metadata": {},
   "source": [
    "---\n",
    "\n",
    "##### 6. Bonus:\n",
    "---\n",
    "\n",
    "Nous voulons ici étudier nos solutions pour différent pas dt par le biais de la méthode d'Euler. En l'absence d'une solution analytique exacte à notre problème, nous allons comparer nos solutions à celles trouvées pour un très petit pas car comme nous l'avons vu, un petit pas offre une meilleur grille de solution. \n",
    "\n",
    "Pour se faire, rappelons tout d'abord les fonctions et paramètres dont nous allons avoir besoin."
   ]
  },
  {
   "cell_type": "code",
   "execution_count": 12,
   "metadata": {
    "collapsed": true
   },
   "outputs": [],
   "source": [
    "def f(u):\n",
    "    \"\"\"Returns the right-hand side of the phugoid system of equations.\n",
    "    \n",
    "    Parameters\n",
    "    ----------\n",
    "    u : array of float\n",
    "        array containing the solution at time n.\n",
    "        \n",
    "    Returns\n",
    "    -------\n",
    "    dudt : array of float\n",
    "        array containing the RHS given u.\n",
    "    \"\"\"\n",
    "    \n",
    "    h = u[0]\n",
    "    v = u[1]\n",
    "    return numpy.array([v,((v_e*m_p_dot)/(m_s+m_p))\n",
    "                        - ((rho*v*abs(v)*A*C_D)/(2*(m_s+m_p)))-g])\n",
    "\n",
    "def euler_step(u, f, dt):\n",
    "    \"\"\"Returns the solution at the next time-step using Euler's method.\n",
    "    \n",
    "    Parameters\n",
    "    ----------\n",
    "    u : array of float\n",
    "        solution at the previous time-step.\n",
    "    f : function\n",
    "        function to compute the right hand-side of the system of equation.\n",
    "    dt : float\n",
    "        time-increment.\n",
    "    \n",
    "    Returns\n",
    "    -------\n",
    "    u_n_plus_1 : array of float\n",
    "        approximate solution at the next time step.\n",
    "    \"\"\"\n",
    "    \n",
    "    return u + dt * f(u)"
   ]
  },
  {
   "cell_type": "code",
   "execution_count": 13,
   "metadata": {
    "collapsed": true
   },
   "outputs": [],
   "source": [
    "# Paramètres du modèle:\n",
    "\n",
    "m_s = 50.0     # poids de la structure de la fusée en kg\n",
    "g  = 9.81      # gravité en m.s^{-2}\n",
    "rho = 1.091    # densité moyenne de l'air en kg.m^3\n",
    "r  = 0.5       # rayon de la section transversale maximale de la fusée\n",
    "A  = numpy.pi*r**2   # supericie de section transversale maximale de la fusée\n",
    "v_e = 325.0    # vitesse d'échappement en m/s\n",
    "C_D = 0.15     # coefficient de traînée\n",
    "m_p0 = 100     # poids initiale (t=0) de propergol de la fusée\n",
    "\n",
    "# Conditions initiales:\n",
    "\n",
    "v0 = 0       # vitesse initiale de la fusée\n",
    "h0 = 0       # altitude initiale de la fusée\n"
   ]
  },
  {
   "cell_type": "markdown",
   "metadata": {},
   "source": [
    "Nous pouvons à présent passer à la résolution du problème, mais avec un pas dt plus petit qu'avant."
   ]
  },
  {
   "cell_type": "code",
   "execution_count": 14,
   "metadata": {
    "collapsed": false
   },
   "outputs": [],
   "source": [
    "# Discrétisation du temps\n",
    "\n",
    "T = 50.0\n",
    "dt = 0.001\n",
    "N = int(T/dt)+1\n",
    "t = numpy.linspace(0.0, T, N)\n",
    "\n",
    "\n",
    "u_fine = numpy.empty((N, 2))      # Initialise le tableau de solution pour chaque dt\n",
    "u_fine[0] = numpy.array([h0,v0])  # remplit le 1er élément avec les CI\n",
    "\n",
    "\n",
    "# On lance la boucle contenant notre booléen et qui appel notre fonction euler_step\n",
    "for n in range(N-1): \n",
    "    if t[n] < 5 :\n",
    "        m_p_dot = 20\n",
    "        m_p_int = m_p_dot*t[n]\n",
    "        m_p = m_p0 - m_p_int\n",
    "        u_fine[n+1] = euler_step(u_fine[n], f, dt)\n",
    "\n",
    "    else :\n",
    "        m_p_dot = 0\n",
    "        m_p = 0\n",
    "        u_fine[n+1] = euler_step(u_fine[n], f, dt)"
   ]
  },
  {
   "cell_type": "markdown",
   "metadata": {},
   "source": [
    "La résolution étant maintenant faite, nous comparons les valeurs de la vitesse maximale/hauteur maximale obtenu avec $dt=0.01 s$ d'une part et d'autre part avec $dt=0.001 s$."
   ]
  },
  {
   "cell_type": "code",
   "execution_count": 15,
   "metadata": {
    "collapsed": false
   },
   "outputs": [
    {
     "name": "stdout",
     "output_type": "stream",
     "text": [
      "→ Vitesse maximale atteinte par la fusée pour dt=0.001s : v = 232.44 m/s\n",
      "\n",
      "→ Vitesse maximale atteinte par la fusée pour dt=0.1s : v = 232.11 m/s\n",
      "\n",
      "Notre solution diffère donc de  1.0014 % de la meilleur solution.\n"
     ]
    }
   ],
   "source": [
    "v_fine = u_fine[:,1]\n",
    "v_fine_max = 0\n",
    "\n",
    "for n in range (N-1):\n",
    "    if v_fine[n] > v_fine_max:\n",
    "        v_fine_max = v_fine[n]\n",
    "             \n",
    "print(\"→ Vitesse maximale atteinte par la fusée pour dt=0.001s : v =\",round(v_fine_max,2),\"m/s\")\n",
    "print(\"\")\n",
    "print(\"→ Vitesse maximale atteinte par la fusée pour dt=0.1s : v =\",round(vm,2),\"m/s\")\n",
    "print(\"\")\n",
    "print(\"Notre solution diffère donc de \",round(v_fine_max/vm,4),\"% de la meilleur solution.\")"
   ]
  },
  {
   "cell_type": "code",
   "execution_count": 16,
   "metadata": {
    "collapsed": false
   },
   "outputs": [
    {
     "name": "stdout",
     "output_type": "stream",
     "text": [
      "→ Altitude maximale atteinte par la fusée pour dt=0.1 : h = 1334.18 m\n",
      "\n",
      "→ Altitude maximale atteinte par la fusée pour dt=0.001 : h = 1350.26 m\n",
      "\n",
      "Notre solution diffère donc de  1.012 % de la meilleur solution.\n"
     ]
    }
   ],
   "source": [
    "h_fine = u_fine[:,0]\n",
    "h_fine_max = 0\n",
    "\n",
    "for n in range (N-1):\n",
    "    if h_fine[n] > h_fine_max :\n",
    "        h_fine_max = h_fine[n]\n",
    "        \n",
    "print(\"→ Altitude maximale atteinte par la fusée pour dt=0.1 : h =\",round(hm,2),\"m\")\n",
    "print(\"\")\n",
    "print(\"→ Altitude maximale atteinte par la fusée pour dt=0.001 : h =\",round(h_fine_max,2),\"m\")\n",
    "print(\"\")\n",
    "print(\"Notre solution diffère donc de \",round(h_fine_max/hm,4),\"% de la meilleur solution.\")"
   ]
  },
  {
   "cell_type": "markdown",
   "metadata": {},
   "source": [
    "On a ainsi trouvé à quel point nos solutions sont proches des solutions trouvées pour un pas plus petit. On peut donc considerer qu'une solution numérique a notre problème sera une bonne solution pour un pas donné, mais une meilleur solution pourra être obtenue par une résolution numérique avec un pas plus petit."
   ]
  },
  {
   "cell_type": "markdown",
   "metadata": {},
   "source": [
    "##### Odre de convergence\n",
    "\n",
    "Pour finir on peut verifier l'ordre de convergence de notre méthode de résolution. On sait grâce au module 1 que la méthode d'Euler est d'ordre 1 ce qui correspond à la vitesse à laquelle la solution numérique converge vers la solution \"exacte\". N'ayant pas de solution dite exacte, nous créons 3 grilles de solution avec comme grille de référence, la meilleur grille qui correspond au $dt$ le plus petit (parmis tout nos dt). On prend un ratio r constant et on calcul ainsi l'ordre de convergence $p$:  \n",
    "\n",
    "$$\n",
    "\\begin{equation}\n",
    "p = \\frac{\\log \\left(\\frac{f_3-f_2}{f_2-f_1} \\right) }{\\log(r)}\n",
    "\\end{equation}\n",
    "$$\n",
    "\n",
    "Où $f_1$ est la meilleur grille de solutions et  $f_3$ la moins bonne."
   ]
  },
  {
   "cell_type": "markdown",
   "metadata": {},
   "source": [
    "Définissons d'abord la fonction qui va calculer la différence de nos solutions pour chacuns des différents $dt$. "
   ]
  },
  {
   "cell_type": "code",
   "execution_count": 17,
   "metadata": {
    "collapsed": false
   },
   "outputs": [],
   "source": [
    "def get_diffgrid(u_current, u_fine, dt):\n",
    "    \"\"\"Returns the difference between one grid and the fine one using L-1 norm.\n",
    "    \n",
    "    Parameters\n",
    "    ----------\n",
    "    u_current : array of float\n",
    "        solution on the current grid.\n",
    "    u_finest : array of float\n",
    "        solution on the fine grid.\n",
    "    dt : float\n",
    "        time-increment on the current grid.\n",
    "    \n",
    "    Returns\n",
    "    -------\n",
    "    diffgrid : float\n",
    "        difference computed in the L-1 norm.\n",
    "    \"\"\"\n",
    "    \n",
    "    N_current = len(u_current[:,0])\n",
    "    N_fine = len(u_fine[:,0])\n",
    "   \n",
    "    grid_size_ratio = ceil(N_fine/N_current)\n",
    "    \n",
    "    diffgrid = dt * numpy.sum( numpy.abs(\\\n",
    "            u_current[:,1]- u_fine[::grid_size_ratio,1])) \n",
    "    \n",
    "    return diffgrid"
   ]
  },
  {
   "cell_type": "markdown",
   "metadata": {},
   "source": [
    "Remarque: diffgrid n'est autre que la norme L1 vu dans le module 1.02 \"Phugoid Oscillations\" et dont l'expression est donnée par : $$ E = \\Delta t \\sum_{n=0}^N \\left|z(t_n) - z_n\\right|$$"
   ]
  },
  {
   "cell_type": "markdown",
   "metadata": {},
   "source": [
    "Dès lors l'algorithme reprenant l'idée détaillé ci-dessus est donné par :"
   ]
  },
  {
   "cell_type": "code",
   "execution_count": 18,
   "metadata": {
    "collapsed": false
   },
   "outputs": [
    {
     "name": "stdout",
     "output_type": "stream",
     "text": [
      "l'ordre de convergence est p = 1.000\n"
     ]
    }
   ],
   "source": [
    "r = 2\n",
    "h = 0.001\n",
    "dt_values = numpy.array([h, r*h, r**2*h])\n",
    "u_values = numpy.empty_like(dt_values, dtype=numpy.ndarray)\n",
    "u_current=u_values[2] # grille des solutions dite moins bonnes\n",
    "u_fine=u_values[0] # grille des meilleurs solutions\n",
    "diffgrid = numpy.empty(2)\n",
    "\n",
    "for i, dt in enumerate(dt_values):\n",
    "    N = int(T/dt) + 1 \n",
    "    \n",
    "    ### discretize the time t ###\n",
    "    t = numpy.linspace(0.0, T, N)\n",
    "    \n",
    "    \n",
    "    u = numpy.empty((N, 2))      # Initialise le tableau de solution pour chaque dt\n",
    "    u[0] = numpy.array([h0,v0])  # remplit le 1er élément avec les CI\n",
    "    # time loop - Méthode d'Euler\n",
    "    for n in range(N-1): \n",
    "        if t[n] < 5 :\n",
    "            m_p_dot = 20\n",
    "            m_p_int= m_p_dot*t[n]\n",
    "            m_p = m_p0 - m_p_int\n",
    "            u[n+1] = euler_step(u[n], f, dt)\n",
    "        else :\n",
    "            m_p_dot = 0\n",
    "            m_p = 0\n",
    "            u[n+1] = euler_step(u[n], f, dt)\n",
    "    u_values[i] = u\n",
    "    \n",
    "#calculate f2 - f1\n",
    "diffgrid[0] = get_diffgrid(u_values[1], u_values[0], dt_values[1])\n",
    "#calculate f3 - f2\n",
    "diffgrid[1] = get_diffgrid(u_values[2], u_values[1], dt_values[2])\n",
    "# calculate the order of convergence\n",
    "p = (log(diffgrid[1]) - log(diffgrid[0])) / log(r)\n",
    "print(\"l'ordre de convergence est p \"'= {:.3f}'.format(p));"
   ]
  },
  {
   "cell_type": "markdown",
   "metadata": {},
   "source": [
    "On retrouve bien pour notre problème que la méthode d'Euler est une méthode d'ordre 1."
   ]
  },
  {
   "cell_type": "markdown",
   "metadata": {},
   "source": [
    "---\n",
    "\n",
    "##### 7. Conclusions:\n",
    "---\n",
    "\n",
    "Comme annoncé au départ, nous avons grâce à la méthode d'Euler résolu numériquement le problème de la trajectoire de la fusée. À l'aide de ces solutions nous avons pu esquisser le graphique de la trajectoire de la fusée ainsi que celui de sa vitesse au cours du temps. \n",
    "\n",
    "Ces derniers, nous ont offert un premier aperçus de la pertinence de nos solutions tandis que quelque codes supplémentaires nous ont permis d'obtenir les données annoncées, des valeurs concrètes. \n",
    "\n",
    "Ces données ont ensuite été verifié sur le site http://openedx.seas.gwu.edu/courses/GW/MAE6286/2014_fall/about. Nous avons résolu le problème avec un pas plus petit et vu à quel point les solutions obtenu pour $dt=0.1 s$ sont proches de ces solutions. \n",
    "\n",
    "\n",
    "Enfin, ce challenge nous a permis d'appliquer, au travers d'un nouvel exemple, la méthode de résolution numérique des équations différentielles qu'est la méthode d'Euler."
   ]
  },
  {
   "cell_type": "markdown",
   "metadata": {},
   "source": [
    "---\n",
    "\n",
    "##### 8. Sources:\n",
    "---\n",
    "\n",
    "[1] https://fr.wikipedia.org/wiki/Propergol\n",
    "\n",
    "[2] Cours d'informatique de Ba2 donné par M. Pourbaix, professeur à l'ULB."
   ]
  },
  {
   "cell_type": "markdown",
   "metadata": {},
   "source": [
    "---\n",
    "\n",
    "###### The cell below loads the style of the notebook."
   ]
  },
  {
   "cell_type": "code",
   "execution_count": 19,
   "metadata": {
    "collapsed": false
   },
   "outputs": [
    {
     "data": {
      "text/html": [
       "<link href='http://fonts.googleapis.com/css?family=Alegreya+Sans:100,300,400,500,700,800,900,100italic,300italic,400italic,500italic,700italic,800italic,900italic' rel='stylesheet' type='text/css'>\n",
       "<link href='http://fonts.googleapis.com/css?family=Arvo:400,700,400italic' rel='stylesheet' type='text/css'>\n",
       "<link href='http://fonts.googleapis.com/css?family=PT+Mono' rel='stylesheet' type='text/css'>\n",
       "<link href='http://fonts.googleapis.com/css?family=Shadows+Into+Light' rel='stylesheet' type='text/css'>\n",
       "<link href='http://fonts.googleapis.com/css?family=Nixie+One' rel='stylesheet' type='text/css'>\n",
       "<link href='https://fonts.googleapis.com/css?family=Source+Code+Pro' rel='stylesheet' type='text/css'>\n",
       "<style>\n",
       "\n",
       "@font-face {\n",
       "    font-family: \"Computer Modern\";\n",
       "    src: url('http://mirrors.ctan.org/fonts/cm-unicode/fonts/otf/cmunss.otf');\n",
       "}\n",
       "\n",
       "#notebook_panel { /* main background */\n",
       "    background: rgb(245,245,245);\n",
       "}\n",
       "\n",
       "div.cell { /* set cell width */\n",
       "    width: 750px;\n",
       "}\n",
       "\n",
       "div #notebook { /* centre the content */\n",
       "    background: #fff; /* white background for content */\n",
       "    width: 1000px;\n",
       "    margin: auto;\n",
       "    padding-left: 0em;\n",
       "}\n",
       "\n",
       "#notebook li { /* More space between bullet points */\n",
       "    margin-top:0.8em;\n",
       "}\n",
       "\n",
       "/* draw border around running cells */\n",
       "div.cell.border-box-sizing.code_cell.running { \n",
       "    border: 1px solid #111;\n",
       "}\n",
       "\n",
       "/* Put a solid color box around each cell and its output, visually linking them*/\n",
       "div.cell.code_cell {\n",
       "    background-color: rgb(256,256,256); \n",
       "    border-radius: 0px; \n",
       "    padding: 0.5em;\n",
       "    margin-left:1em;\n",
       "    margin-top: 1em;\n",
       "}\n",
       "\n",
       "div.text_cell_render{\n",
       "    font-family: 'Alegreya Sans' sans-serif;\n",
       "    line-height: 140%;\n",
       "    font-size: 125%;\n",
       "    font-weight: 400;\n",
       "    width:600px;\n",
       "    margin-left:auto;\n",
       "    margin-right:auto;\n",
       "}\n",
       "\n",
       "\n",
       "/* Formatting for header cells */\n",
       ".text_cell_render h1 {\n",
       "    font-family: 'Nixie One', serif;\n",
       "    font-style:regular;\n",
       "    font-weight: 400;    \n",
       "    font-size: 45pt;\n",
       "    line-height: 100%;\n",
       "    color: rgb(0,51,102);\n",
       "    margin-bottom: 0.5em;\n",
       "    margin-top: 0.5em;\n",
       "    display: block;\n",
       "}\n",
       "\n",
       ".text_cell_render h2 {\n",
       "    font-family: 'Nixie One', serif;\n",
       "    font-weight: 400;\n",
       "    font-size: 30pt;\n",
       "    line-height: 100%;\n",
       "    color: rgb(0,51,102);\n",
       "    margin-bottom: 0.1em;\n",
       "    margin-top: 0.3em;\n",
       "    display: block;\n",
       "}\t\n",
       "\n",
       ".text_cell_render h3 {\n",
       "    font-family: 'Nixie One', serif;\n",
       "    margin-top:16px;\n",
       "    font-size: 22pt;\n",
       "    font-weight: 600;\n",
       "    margin-bottom: 3px;\n",
       "    font-style: regular;\n",
       "    color: rgb(102,102,0);\n",
       "}\n",
       "\n",
       ".text_cell_render h4 {    /*Use this for captions*/\n",
       "    font-family: 'Nixie One', serif;\n",
       "    font-size: 14pt;\n",
       "    text-align: center;\n",
       "    margin-top: 0em;\n",
       "    margin-bottom: 2em;\n",
       "    font-style: regular;\n",
       "}\n",
       "\n",
       ".text_cell_render h5 {  /*Use this for small titles*/\n",
       "    font-family: 'Nixie One', sans-serif;\n",
       "    font-weight: 400;\n",
       "    font-size: 16pt;\n",
       "    color: rgb(163,0,0);\n",
       "    font-style: italic;\n",
       "    margin-bottom: .1em;\n",
       "    margin-top: 0.8em;\n",
       "    display: block;\n",
       "}\n",
       "\n",
       ".text_cell_render h6 { /*use this for copyright note*/\n",
       "    font-family: 'PT Mono', sans-serif;\n",
       "    font-weight: 300;\n",
       "    font-size: 9pt;\n",
       "    line-height: 100%;\n",
       "    color: grey;\n",
       "    margin-bottom: 1px;\n",
       "    margin-top: 1px;\n",
       "}\n",
       "\n",
       ".CodeMirror{\n",
       "    font-family: \"Source Code Pro\";\n",
       "    font-size: 90%;\n",
       "}\n",
       "\n",
       ".alert-box {\n",
       "    padding:10px 10px 10px 36px;\n",
       "    margin:5px;\n",
       "}\n",
       "\n",
       ".success {\n",
       "    color:#666600;\n",
       "    background:rgb(240,242,229);\n",
       "}\n",
       "</style>\n",
       "<script>\n",
       "    MathJax.Hub.Config({\n",
       "                        TeX: {\n",
       "                           extensions: [\"AMSmath.js\"],\n",
       "                           equationNumbers: { autoNumber: \"AMS\", useLabelIds: true}\n",
       "                           },\n",
       "                tex2jax: {\n",
       "                    inlineMath: [ ['$','$'], [\"\\\\(\",\"\\\\)\"] ],\n",
       "                    displayMath: [ ['$$','$$'], [\"\\\\[\",\"\\\\]\"] ]\n",
       "                },\n",
       "                displayAlign: 'center', // Change this to 'center' to center equations.\n",
       "                \"HTML-CSS\": {\n",
       "                    styles: {'.MathJax_Display': {\"margin\": 4}}\n",
       "                }\n",
       "        });\n",
       "</script>\n"
      ],
      "text/plain": [
       "<IPython.core.display.HTML object>"
      ]
     },
     "execution_count": 19,
     "metadata": {},
     "output_type": "execute_result"
    }
   ],
   "source": [
    "from IPython.core.display import HTML\n",
    "css_file = '../styles/numericalmoocstyle.css'\n",
    "HTML(open(css_file, \"r\").read())"
   ]
  }
 ],
 "metadata": {
  "anaconda-cloud": {},
  "kernelspec": {
   "display_name": "Python [Root]",
   "language": "python",
   "name": "Python [Root]"
  },
  "language_info": {
   "codemirror_mode": {
    "name": "ipython",
    "version": 3
   },
   "file_extension": ".py",
   "mimetype": "text/x-python",
   "name": "python",
   "nbconvert_exporter": "python",
   "pygments_lexer": "ipython3",
   "version": "3.4.5"
  }
 },
 "nbformat": 4,
 "nbformat_minor": 0
}
